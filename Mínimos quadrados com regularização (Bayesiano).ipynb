{
 "cells": [
  {
   "cell_type": "code",
   "execution_count": 1,
   "metadata": {
    "collapsed": true
   },
   "outputs": [],
   "source": [
    "import numpy as np\n",
    "import matplotlib.pyplot as plt\n",
    "\n",
    "%matplotlib inline"
   ]
  },
  {
   "cell_type": "markdown",
   "metadata": {},
   "source": [
    "#### Geração dos dados ####"
   ]
  },
  {
   "cell_type": "markdown",
   "metadata": {},
   "source": [
    "$ f(x) = x^T w $\n",
    "\n",
    "$ y = f(x) + \\epsilon $\n",
    "\n",
    "$ \\epsilon = \\mathcal{N}(0, \\sigma_n^2) $"
   ]
  },
  {
   "cell_type": "code",
   "execution_count": 153,
   "metadata": {
    "collapsed": true
   },
   "outputs": [],
   "source": [
    "N = 100\n",
    "complexity = 3\n",
    "sigma = 0.4"
   ]
  },
  {
   "cell_type": "code",
   "execution_count": 154,
   "metadata": {
    "collapsed": false
   },
   "outputs": [
    {
     "data": {
      "image/png": "[encoded data removed]",
      "text/plain": [
       "<matplotlib.figure.Figure at 0x7f0a38b35d30>"
      ]
     },
     "metadata": {},
     "output_type": "display_data"
    }
   ],
   "source": [
    "x = np.sort(2*np.pi*np.random.random_sample((N,)))\n",
    "e = sigma * np.random.randn(N)\n",
    "y = np.sin(x)\n",
    "y_e = y+e\n",
    "plt.plot(x,y_e, 'o')\n",
    "plt.show()"
   ]
  },
  {
   "cell_type": "markdown",
   "metadata": {},
   "source": [
    "### Likelihood ###\n",
    "$p(\\mathbf{y}|X,w) = \\prod_{i=1}^{n}{p(y_i | x_i,w)} = \\prod_{i=1}^{n}{\\frac{1}{\\sqrt{2\\pi}\\sigma_n}e^{\\frac{-(y_i-x_i^T w)^2}{2\\sigma_n^2}}} = \\frac{1}{(2\\pi\\sigma_n^2)^{n/2}}e^{\\frac{-1}{2\\sigma_n^2}|\\mathbf{y} - X^Tw|^2} = \\mathcal{N}(X^Tw, \\sigma_n^2I)$\n",
    "#### Fitando um polinômio utiizando o método dos mínimos quadrados ($ X^Tw $ )####"
   ]
  },
  {
   "cell_type": "code",
   "execution_count": 155,
   "metadata": {
    "collapsed": false
   },
   "outputs": [
    {
     "data": {
      "image/png": "[encoded data removed]",
      "text/plain": [
       "<matplotlib.figure.Figure at 0x7f0a389c1eb8>"
      ]
     },
     "metadata": {},
     "output_type": "display_data"
    },
    {
     "name": "stdout",
     "output_type": "stream",
     "text": [
      "Erro de 0.37 (desvio padrão)\n"
     ]
    }
   ],
   "source": [
    "xp = np.linspace(0, 2*np.pi, 1000)\n",
    "w = np.polyfit(x, y, complexity)\n",
    "p = np.poly1d(w)\n",
    "plt.plot(x,y_e, 'o')\n",
    "plt.plot(xp,p(xp))\n",
    "plt.show()\n",
    "    \n",
    "error_array = (p(x) - y_e)**2\n",
    "error = np.sum(error_array)\n",
    "    \n",
    "print(\"Erro de %.2f (desvio padrão)\" % np.sqrt(np.asarray(error)/N))"
   ]
  },
  {
   "cell_type": "markdown",
   "metadata": {},
   "source": [
    "#### Calculando $p(\\mathbf{y}|X,w) = \\mathcal{N}(X^Tw, \\sigma_n^2I)$ ####"
   ]
  },
  {
   "cell_type": "code",
   "execution_count": 156,
   "metadata": {
    "collapsed": false
   },
   "outputs": [],
   "source": [
    "def normal_multivariate(mu, sigma, dados):\n",
    "    return (np.linalg.det(2*np.pi*sigma)**(-1/2))*np.exp(-1/2 * np.dot(np.dot((dados-mu), np.linalg.inv(sigma)), (dados-mu).T))\n",
    "\n",
    "def get_x_matrix(x, complexity):\n",
    "    value_x = x.copy()\n",
    "    for i in range(complexity+1):\n",
    "        if not i:\n",
    "            value_x = np.power(x,i)\n",
    "        else:\n",
    "            value_x = np.concatenate((value_x, np.power(x, i)))\n",
    "    value_x = value_x.reshape((complexity+1,x.shape[0])).T\n",
    "    return value_x"
   ]
  },
  {
   "cell_type": "code",
   "execution_count": 157,
   "metadata": {
    "collapsed": false
   },
   "outputs": [
    {
     "data": {
      "text/plain": [
       "array([[ 0.4,  0. ,  0. ,  0. ],\n",
       "       [ 0. ,  0.4,  0. ,  0. ],\n",
       "       [ 0. ,  0. ,  0.4,  0. ],\n",
       "       [ 0. ,  0. ,  0. ,  0.4]])"
      ]
     },
     "execution_count": 157,
     "metadata": {},
     "output_type": "execute_result"
    }
   ],
   "source": [
    "x = get_x_matrix(x,complexity)\n",
    "covariance = sigma * np.eye(complexity+1)\n",
    "covariance\n",
    "#normal_multivariate()"
   ]
  },
  {
   "cell_type": "code",
   "execution_count": 47,
   "metadata": {
    "collapsed": false
   },
   "outputs": [
    {
     "data": {
      "text/plain": [
       "array([ 0.09086106, -0.85909962,  1.86371823, -0.18798618])"
      ]
     },
     "execution_count": 47,
     "metadata": {},
     "output_type": "execute_result"
    }
   ],
   "source": [
    "w"
   ]
  },
  {
   "cell_type": "markdown",
   "metadata": {},
   "source": [
    "#### Calculando $\\beta$ ####\n",
    "$\\beta$ é o inverso da variância do erro encontrado utilizando os parâmetros w calculados pelo método dos mínimos quadrados"
   ]
  },
  {
   "cell_type": "code",
   "execution_count": 36,
   "metadata": {
    "collapsed": false
   },
   "outputs": [
    {
     "data": {
      "image/png": "[encoded data removed]",
      "text/plain": [
       "<matplotlib.figure.Figure at 0x7f0a38a548d0>"
      ]
     },
     "metadata": {},
     "output_type": "display_data"
    },
    {
     "name": "stdout",
     "output_type": "stream",
     "text": [
      "Variância de 0.18 ((desvio padrão)**2) e beta de 5.50 (1/variancia)\n"
     ]
    }
   ],
   "source": [
    "variance = error/N\n",
    "beta = 1/variance\n",
    "\n",
    "plt.plot(x,y_e, 'o')\n",
    "plt.plot(xp,p(xp))\n",
    "plt.errorbar(xp, p(xp), yerr=variance, fmt='o')\n",
    "plt.show()\n",
    "\n",
    "print(\"Variância de %.2f ((desvio padrão)**2) e beta de %.2f (1/variancia)\" % (variance, beta))"
   ]
  }
 ],
 "metadata": {
  "kernelspec": {
   "display_name": "Python 3",
   "language": "python",
   "name": "python3"
  },
  "language_info": {
   "codemirror_mode": {
    "name": "ipython",
    "version": 3
   },
   "file_extension": ".py",
   "mimetype": "text/x-python",
   "name": "python",
   "nbconvert_exporter": "python",
   "pygments_lexer": "ipython3",
   "version": "3.5.3"
  },
  "widgets": {
   "state": {},
   "version": "1.1.2"
  }
 },
 "nbformat": 4,
 "nbformat_minor": 0
}
