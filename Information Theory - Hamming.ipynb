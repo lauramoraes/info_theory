{
 "cells": [
  {
   "cell_type": "markdown",
   "metadata": {
    "collapsed": true
   },
   "source": [
    "#### Código de Hamming (7, 4) ####\n",
    "Para codificar a fonte $s$ para ser transmitida pelo código de Hamming como $t$, aplica-se a seguinte transformação linear:\n",
    "$t = G^ts$\n",
    "\n",
    "onde G é a matriz Geradora. Ela pode ser expressa da seguinte maneira:\n",
    "$G^t = \\begin{bmatrix}\n",
    "I_4\\\\ \n",
    "P\n",
    "\\end{bmatrix}$\n",
    "\n",
    "onde $I_4$ é a identidade e P a matriz de paridade (combinação dos bits três a três).\n",
    "\n",
    "$ P = \\begin{bmatrix}\n",
    "1 & 1 & 1 & 0\\\\ \n",
    "0 & 1 & 1 & 1\\\\ \n",
    "1 & 0 & 1 & 1\n",
    "\\end{bmatrix}$\n",
    "\n",
    "Para decodificar o código recebido, é preciso verificar as somas dos bits três a três. Se tudo estiver correto, não há anomalias e a resposta é \n",
    "$z = \\begin{bmatrix}\n",
    "0\\\\ \n",
    "0\\\\ \n",
    "0\n",
    "\\end{bmatrix}$\n",
    "\n",
    "Logo, para decodificar, aplica-se a transformação $H = \\begin{bmatrix}\n",
    "P & I_3\n",
    "\\end{bmatrix}$ ao código recebido $t$.\n",
    "\n",
    "$z = Ht$\n",
    "\n",
    "Isso funciona porque $HG^t = 0$. Logo, se não houver anomalias na transmissão, o resultado será $z = \\begin{bmatrix}\n",
    "0\\\\ \n",
    "0\\\\ \n",
    "0\n",
    "\\end{bmatrix}$. Se somente um bit for modificado, é possível descobri-lo pois cada anomalia indica unicamente o bit a ser corrigido para que a soma das paridades esteja correta. No entanto, se dois ou mais bits estiverem trocados, a simples troca indicada pela análise da anomalia trocará o bit incorreto, e ficaremos com um erro a mais."
   ]
  },
  {
   "cell_type": "code",
   "execution_count": 150,
   "metadata": {
    "collapsed": true
   },
   "outputs": [],
   "source": [
    "import numpy as np\n",
    "import re"
   ]
  },
  {
   "cell_type": "markdown",
   "metadata": {},
   "source": [
    "#### Verificação do código de Hamming (Q1.4)####"
   ]
  },
  {
   "cell_type": "code",
   "execution_count": 70,
   "metadata": {
    "collapsed": false
   },
   "outputs": [
    {
     "name": "stdout",
     "output_type": "stream",
     "text": [
      "[[ 1.  1.  1.  0.  1.  0.  0.]\n",
      " [ 0.  1.  1.  1.  0.  1.  0.]\n",
      " [ 1.  0.  1.  1.  0.  0.  1.]]\n",
      "[[0 0 0 0]\n",
      " [0 0 0 0]\n",
      " [0 0 0 0]]\n"
     ]
    }
   ],
   "source": [
    "P = np.array([[1,1,1,0], [0,1,1,1], [1,0,1,1]], dtype='b')\n",
    "G_t = np.concatenate([np.eye(4), P])\n",
    "H = np.concatenate([P, np.eye(3)], axis=1)\n",
    "print(H)\n",
    "z = (np.dot(H, G_t)% 2).astype('b')\n",
    "print(z)"
   ]
  },
  {
   "cell_type": "markdown",
   "metadata": {},
   "source": [
    "#### Decodificação dos códigos recebidos (Q1.5)####"
   ]
  },
  {
   "cell_type": "code",
   "execution_count": 196,
   "metadata": {
    "collapsed": false
   },
   "outputs": [
    {
     "name": "stdout",
     "output_type": "stream",
     "text": [
      "Anomalia [[ 0.  1.  1.]]\n",
      "Codigo consertado\n",
      "O código 1101011 decodifica como 1100\n",
      "\n",
      "Anomalia [[ 1.  1.  1.]]\n",
      "Codigo consertado\n",
      "O código 0110110 decodifica como 0100\n",
      "\n",
      "Anomalia [[ 0.  0.  1.]]\n",
      "Codigo consertado\n",
      "O código 0100111 decodifica como 0100\n",
      "\n",
      "Anomalia [[ 0.  0.  0.]]\n",
      "O código 1111111 decodifica como 1111\n",
      "\n"
     ]
    }
   ],
   "source": [
    "def decode(r):\n",
    "    r = np.asarray([list(r)], dtype='b')\n",
    "    P = np.array([[1,1,1,0], [0,1,1,1], [1,0,1,1]])\n",
    "    H = np.concatenate([P, np.eye(3)], axis=1)\n",
    "    \n",
    "    z = np.dot(H, r.T) % 2\n",
    "    return z\n",
    "\n",
    "def flip_code(z, r):\n",
    "    H = np.concatenate([P, np.eye(3)], axis=1).T\n",
    "    idx = np.where(np.all(H == z.T, axis=1))\n",
    "    if not idx[0].any():\n",
    "        return r[:4]\n",
    "    idx = idx[0][0]\n",
    "    flipped = int(r[idx],2) ^ 1\n",
    "    r = r[:idx] + str(flipped) + r[idx+1:]\n",
    "    double_check = decode(r)\n",
    "    if not double_check.any():\n",
    "        print(\"Codigo consertado\")\n",
    "    else:\n",
    "        print(\"oh oh\")\n",
    "    return r[:4]\n",
    "\n",
    "codes = ['1101011', '0110110', '0100111', '1111111']\n",
    "for r in codes:\n",
    "    z = decode(r)\n",
    "    print(\"Anomalia %s\" % z.T)\n",
    "    code = flip_code(z, r)\n",
    "    print(\"O código %s decodifica como %s\\n\" % (r, code))"
   ]
  },
  {
   "cell_type": "markdown",
   "metadata": {},
   "source": [
    "#### Cálculo do erro (Q1.6 a Q1.8)####\n",
    "Um erro de um bloco (7,4) acontece se dois ou mais bits vierem trocados. Se somente um bit estiver trocado, este é consertado pela confirmação da paridade. A probabilidade de erro de um bloco (7,4) utilizando código de Hamming é de:\n",
    "\n",
    "$p_B = \\binom{7}{2}f^2 + \\binom{7}{3}f^3 + \\binom{7}{4}f^4 + \\binom{7}{5}f^5 + \\binom{7}{6}f^6 + \\binom{7}{7}f^7$\n",
    "\n",
    "O termo de *leading order* é $\\binom{7}{2}f^2 = 21 f^2$ \n",
    "\n",
    "Portanto, o Hamming funciona da seguinte maneira:\n",
    "1. Se errar somente 1 bit, o decoder consertará.\n",
    "2. Se errar 2 bits, o decoder tenta consertar o bit errado e 3 bits acabam estando errados no final. Logo, considerando somente o termo de *leading order*, a chance de 1 bit estar errado ao final é de $\\frac{3}{7}$ da chance do bloco estar errado. Ou seja:\n",
    "\n",
    "$p_b = \\frac{3}{7} 21 f^2 = \\frac{63}{7} f^2 = 9 f^2$"
   ]
  },
  {
   "cell_type": "code",
   "execution_count": 231,
   "metadata": {
    "collapsed": false
   },
   "outputs": [
    {
     "name": "stdout",
     "output_type": "stream",
     "text": [
      "Existem 16 noise vectors: ['0000000', '0001011', '0010111', '0011100', '0100110', '0101101', '0110001', '0111010', '1000101', '1001110', '1010010', '1011001', '1100011', '1101000', '1110100', '1111111']\n"
     ]
    }
   ],
   "source": [
    "# Iterate over all possible binary numbers to check\n",
    "\n",
    "noise = []\n",
    "for i in range(0,2**7):\n",
    "    r = np.binary_repr(i, width=7)\n",
    "    z = decode(r)\n",
    "    if not z.any():\n",
    "        noise.append(r)\n",
    "print(\"Existem %d noise vectors: %s\" % (len(noise), noise))"
   ]
  }
 ],
 "metadata": {
  "kernelspec": {
   "display_name": "Python 3",
   "language": "python",
   "name": "python3"
  },
  "language_info": {
   "codemirror_mode": {
    "name": "ipython",
    "version": 3
   },
   "file_extension": ".py",
   "mimetype": "text/x-python",
   "name": "python",
   "nbconvert_exporter": "python",
   "pygments_lexer": "ipython3",
   "version": "3.5.3"
  }
 },
 "nbformat": 4,
 "nbformat_minor": 2
}
