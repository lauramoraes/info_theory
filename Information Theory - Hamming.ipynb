{
 "cells": [
  {
   "cell_type": "markdown",
   "metadata": {
    "collapsed": true
   },
   "source": [
    "#### Código de Hamming (7, 4) ####\n",
    "Para codificar a fonte $s$ para ser transmitida pelo código de Hamming como $t$, aplica-se a seguinte transformação linear:\n",
    "$t = G^ts$\n",
    "\n",
    "onde G é a matriz Geradora. Ela pode ser expressa da seguinte maneira:\n",
    "$G^t = \\begin{bmatrix}\n",
    "I_4\\\\ \n",
    "P\n",
    "\\end{bmatrix}$\n",
    "\n",
    "onde $I_4$ é a identidade e P a matriz de paridade (combinação dos bits três a três).\n",
    "\n",
    "$ P = \\begin{bmatrix}\n",
    "1 & 1 & 1 & 0\\\\ \n",
    "0 & 1 & 1 & 1\\\\ \n",
    "1 & 0 & 1 & 1\n",
    "\\end{bmatrix}$\n",
    "\n",
    "Para decodificar o código recebido, é preciso verificar as somas dos bits três a três. Se tudo estiver correto, não há anomalias e a resposta é \n",
    "$z = \\begin{bmatrix}\n",
    "0\\\\ \n",
    "0\\\\ \n",
    "0\n",
    "\\end{bmatrix}$\n",
    "\n",
    "Logo, para decodificar, aplica-se a transformação $H = \\begin{bmatrix}\n",
    "P & I_3\n",
    "\\end{bmatrix}$ ao código recebido $t$.\n",
    "\n",
    "$z = Ht$\n",
    "\n",
    "Isso funciona porque $HG^t = 0$. Logo, se não houver anomalias na transmissão, o resultado será $z = \\begin{bmatrix}\n",
    "0\\\\ \n",
    "0\\\\ \n",
    "0\n",
    "\\end{bmatrix}$. Se somente um bit for modificado, é possível descobri-lo pois cada anomalia indica unicamente o bit a ser corrigido para que a soma das paridades esteja correta. No entanto, se dois ou mais bits estiverem trocados, a simples troca indicada pela análise da anomalia trocará o bit incorreto, e ficaremos com um erro a mais."
   ]
  },
  {
   "cell_type": "code",
   "execution_count": 1,
   "metadata": {
    "collapsed": false
   },
   "outputs": [],
   "source": [
    "import numpy as np\n",
    "import re\n",
    "from math import factorial\n",
    "from itertools import combinations\n",
    "import random\n",
    "from scipy.spatial.distance import hamming"
   ]
  },
  {
   "cell_type": "markdown",
   "metadata": {},
   "source": [
    "#### Verificação do código de Hamming (Q1.4)####"
   ]
  },
  {
   "cell_type": "code",
   "execution_count": 3,
   "metadata": {
    "collapsed": false
   },
   "outputs": [
    {
     "name": "stdout",
     "output_type": "stream",
     "text": [
      "[[ 1.  1.  1.  0.  1.  0.  0.]\n",
      " [ 0.  1.  1.  1.  0.  1.  0.]\n",
      " [ 1.  0.  1.  1.  0.  0.  1.]]\n",
      "[[0 0 0 0]\n",
      " [0 0 0 0]\n",
      " [0 0 0 0]]\n"
     ]
    }
   ],
   "source": [
    "P = np.array([[1,1,1,0], [0,1,1,1], [1,0,1,1]], dtype='b')\n",
    "G_t = np.concatenate([np.eye(4), P])\n",
    "H = np.concatenate([P, np.eye(3)], axis=1)\n",
    "print(H)\n",
    "z = (np.dot(H, G_t)% 2).astype('b')\n",
    "print(z)"
   ]
  },
  {
   "cell_type": "markdown",
   "metadata": {},
   "source": [
    "#### Decodificação dos códigos recebidos (Q1.5)####"
   ]
  },
  {
   "cell_type": "code",
   "execution_count": 4,
   "metadata": {
    "collapsed": false
   },
   "outputs": [
    {
     "name": "stdout",
     "output_type": "stream",
     "text": [
      "Anomalia [[ 0.  1.  1.]]\n",
      "Codigo consertado\n",
      "O código 1101011 decodifica como 1100\n",
      "\n",
      "Anomalia [[ 1.  1.  1.]]\n",
      "Codigo consertado\n",
      "O código 0110110 decodifica como 0100\n",
      "\n",
      "Anomalia [[ 0.  0.  1.]]\n",
      "Codigo consertado\n",
      "O código 0100111 decodifica como 0100\n",
      "\n",
      "Anomalia [[ 0.  0.  0.]]\n",
      "O código 1111111 decodifica como 1111\n",
      "\n"
     ]
    }
   ],
   "source": [
    "def decode(r):\n",
    "    r = np.asarray([list(r)], dtype='b')\n",
    "    P = np.array([[1,1,1,0], [0,1,1,1], [1,0,1,1]])\n",
    "    H = np.concatenate([P, np.eye(3)], axis=1)\n",
    "    \n",
    "    z = np.dot(H, r.T) % 2\n",
    "    return z\n",
    "\n",
    "def flip_code(z, r):\n",
    "    H = np.concatenate([P, np.eye(3)], axis=1).T\n",
    "    idx = np.where(np.all(H == z.T, axis=1))\n",
    "    if not idx[0].any():\n",
    "        return r[:4]\n",
    "    idx = idx[0][0]\n",
    "    flipped = int(r[idx],2) ^ 1\n",
    "    r = r[:idx] + str(flipped) + r[idx+1:]\n",
    "    double_check = decode(r)\n",
    "    if not double_check.any():\n",
    "        print(\"Codigo consertado\")\n",
    "    else:\n",
    "        print(\"oh oh\")\n",
    "    return r[:4]\n",
    "\n",
    "codes = ['1101011', '0110110', '0100111', '1111111']\n",
    "for r in codes:\n",
    "    z = decode(r)\n",
    "    print(\"Anomalia %s\" % z.T)\n",
    "    code = flip_code(z, r)\n",
    "    print(\"O código %s decodifica como %s\\n\" % (r, code))"
   ]
  },
  {
   "cell_type": "markdown",
   "metadata": {},
   "source": [
    "#### Cálculo do erro (Q1.6 a Q1.8)####\n",
    "Um erro de um bloco (7,4) acontece se dois ou mais bits vierem trocados. Se somente um bit estiver trocado, este é consertado pela confirmação da paridade. A probabilidade de erro de um bloco (7,4) utilizando código de Hamming é de:\n",
    "\n",
    "$p_B = \\binom{7}{2}f^2 + \\binom{7}{3}f^3 + \\binom{7}{4}f^4 + \\binom{7}{5}f^5 + \\binom{7}{6}f^6 + \\binom{7}{7}f^7$\n",
    "\n",
    "O termo de *leading order* é $\\binom{7}{2}f^2 = 21 f^2$ \n",
    "\n",
    "Portanto, o Hamming funciona da seguinte maneira:\n",
    "1. Se errar somente 1 bit, o decoder consertará.\n",
    "2. Se errar 2 bits, o decoder tenta consertar o bit errado e 3 bits acabam estando errados no final. Logo, considerando somente o termo de *leading order*, a chance de 1 bit estar errado ao final é de $\\frac{3}{7}$ da chance do bloco estar errado. Ou seja:\n",
    "\n",
    "$p_b = \\frac{3}{7} 21 f^2 = \\frac{63}{7} f^2 = 9 f^2$"
   ]
  },
  {
   "cell_type": "code",
   "execution_count": 13,
   "metadata": {
    "collapsed": false
   },
   "outputs": [
    {
     "name": "stdout",
     "output_type": "stream",
     "text": [
      "Existem 16 noise vectors: ['0000000', '0001011', '0010111', '0011100', '0100110', '0101101', '0110001', '0111010', '1000101', '1001110', '1010010', '1011001', '1100011', '1101000', '1110100', '1111111']\n"
     ]
    }
   ],
   "source": [
    "# Iterate over all possible binary numbers to check\n",
    "noise = []\n",
    "for i in range(0,2**7):\n",
    "    r = np.binary_repr(i, width=7)\n",
    "    z = decode(r)\n",
    "    if not z.any():\n",
    "        noise.append(r)\n",
    "print(\"Existem %d noise vectors: %s\" % (len(noise), noise))"
   ]
  },
  {
   "cell_type": "code",
   "execution_count": 85,
   "metadata": {
    "collapsed": false,
    "scrolled": true
   },
   "outputs": [
    {
     "name": "stdout",
     "output_type": "stream",
     "text": [
      "Source: 0001001\n",
      "Transmitted: 00010011101101\n",
      "Bits trocados: [2, 8]\n",
      "Received: 00110011001101\n",
      "trocando 1 10 \n",
      "trocando 2 8 \n",
      "trocando 8 2 \n",
      "trocando 10 1 \n",
      "('0011001', [0.14285714285714285, 0.14285714285714285, 0.7142857142857143, 0.7142857142857143])\n"
     ]
    }
   ],
   "source": [
    "def anomalies(N=32, c=2):\n",
    "    comb = 0\n",
    "    comb_list = []\n",
    "    for i in range(1, c+1):\n",
    "        # Quantidade de anomalias possíveis com 2 erros\n",
    "        comb += factorial(N)/(factorial(i)*factorial(N-i))\n",
    "        comb_list.append(combinations(range(0,N),i))\n",
    "    return int(comb), comb_list\n",
    "\n",
    "def create_code(N=14):\n",
    "    comb, _ = anomalies(N)\n",
    "    bits = int(np.ceil(np.log2(comb)))\n",
    "    info = N-bits\n",
    "    P_rows, comb_list = anomalies(7,1)\n",
    "    \n",
    "    # Criando a matriz P\n",
    "    P = np.ones((P_rows, info), dtype='b')\n",
    "    p_idx = 0\n",
    "    for item in comb_list:\n",
    "        for comb_item in item:\n",
    "            for bit in comb_item:\n",
    "                P[p_idx,bit] = 0\n",
    "                if p_idx < P_rows-1:\n",
    "                    P[p_idx,bit] = 0\n",
    "                    P[p_idx+1,bit] = 0\n",
    "                else:\n",
    "                    P[0,bit] = 0\n",
    "                    P[1,bit] = 0\n",
    "            p_idx += 1\n",
    "    \n",
    "    # Criando a matriz G^t\n",
    "    G_t = np.concatenate([np.eye(info), P])\n",
    "    \n",
    "    # Criando a matriz H\n",
    "    H = np.concatenate([P, np.eye(P_rows)], axis=1)\n",
    "    \n",
    "    return P, G_t, H\n",
    "\n",
    "def encode(s, G_t):\n",
    "    s = np.asarray([list(s)], dtype='b')\n",
    "    t = np.dot(G_t, s.T) % 2\n",
    "    t = np.array2string(t.T[0], formatter={'int_kind':lambda x: \"%.2f\" % x})\n",
    "    t = re.findall(r\"[-+]?\\d*\\.\\d+|\\d+\", t)\n",
    "    return ''.join(t)\n",
    "\n",
    "def decode(r, P, H):\n",
    "    r = np.asarray([list(r)], dtype='b')\n",
    "    z = np.dot(H, r.T) % 2\n",
    "    return z\n",
    "\n",
    "def flip_code(z, r, H, info, P):\n",
    "    H = H.T\n",
    "    idx = np.where(np.all(H == z.T, axis=1))\n",
    "    h_dist_list = []\n",
    "    if not z.any():\n",
    "        return r[:info]\n",
    "    # Flip um bit so\n",
    "    if idx[0].shape[0] != 0:\n",
    "        i = idx[0][0]\n",
    "        flipped = int(r[i],2) ^ 1\n",
    "        r = r[:i] + str(flipped) + r[i+1:]\n",
    "    # Flip dois bits\n",
    "    else:\n",
    "        for i1, row1 in enumerate(H):\n",
    "            h_dist = hamming(row1, z.T[0])\n",
    "            for i2, row2 in enumerate(H):\n",
    "                anomaly = np.sum([row1, row2], axis=0) % 2\n",
    "                if np.array_equal(anomaly,z.T[0]):\n",
    "                    h_dist_list.append(h_dist)\n",
    "                    print(\"trocando %d %d \" %(i1,i2))\n",
    "                    flipped1 = int(r[i1],2) ^ 1\n",
    "                    r_temp = r[:i1] + str(flipped1) + r[i1+1:]\n",
    "                    flipped2 = int(r[i2],2) ^ 1\n",
    "                    r_temp = r_temp[:i2] + str(flipped2) + r_temp[i2+1:]\n",
    "                    double_check = decode(r_temp, P, H.T)\n",
    "                    r = r_temp\n",
    "    return r[:info], h_dist_list\n",
    "\n",
    "P, G_t, H = create_code(N=14)\n",
    "s = '0001001'\n",
    "print(\"Source: %s\" % s)\n",
    "t = encode(s, G_t)\n",
    "print(\"Transmitted: %s\" % t)\n",
    "r = t\n",
    "idx1 = random.randint(0, len(t)-1)\n",
    "idx2 = random.randint(0, len(t)-1)\n",
    "flipped1 = int(r[idx1],2) ^ 1\n",
    "flipped2 = int(r[idx2],2) ^ 1\n",
    "r = r[:idx1] + str(flipped1) + r[idx1+1:]\n",
    "r = r[:idx2] + str(flipped2) + r[idx2+1:]\n",
    "print(\"Bits trocados: %s\" %([idx1,idx2]))\n",
    "print(\"Received: %s\" % r)\n",
    "\n",
    "z  = decode(r, P, H)\n",
    "#print(z)\n",
    "data = flip_code(z, r, H, 7, P)\n",
    "z = np.array2string(z.T[0], formatter={'int_kind':lambda x: \"%.2f\" % x})\n",
    "z = re.findall(r\"[-+]?\\d*\\.\\d+|\\d+\", z)\n",
    "z = ''.join(z)\n",
    "print(data)"
   ]
  },
  {
   "cell_type": "code",
   "execution_count": 71,
   "metadata": {
    "collapsed": false
   },
   "outputs": [
    {
     "name": "stdout",
     "output_type": "stream",
     "text": [
      "0 1 4.0\n",
      "0 2 6.0\n",
      "0 3 6.0\n",
      "0 4 6.0\n",
      "0 5 6.0\n",
      "0 6 3.0\n",
      "1 0 4.0\n",
      "1 2 4.0\n",
      "1 3 6.0\n",
      "1 4 6.0\n",
      "1 5 6.0\n",
      "1 6 5.0\n",
      "2 0 6.0\n",
      "2 1 4.0\n",
      "2 3 4.0\n",
      "2 4 6.0\n",
      "2 5 6.0\n",
      "2 6 7.0\n",
      "3 0 6.0\n",
      "3 1 6.0\n",
      "3 2 4.0\n",
      "3 4 4.0\n",
      "3 5 6.0\n",
      "3 6 7.0\n",
      "4 0 6.0\n",
      "4 1 6.0\n",
      "4 2 6.0\n",
      "4 3 4.0\n",
      "4 5 4.0\n",
      "4 6 7.0\n",
      "5 0 6.0\n",
      "5 1 6.0\n",
      "5 2 6.0\n",
      "5 3 6.0\n",
      "5 4 4.0\n",
      "5 6 5.0\n",
      "6 0 3.0\n",
      "6 1 5.0\n",
      "6 2 7.0\n",
      "6 3 7.0\n",
      "6 4 7.0\n",
      "6 5 5.0\n"
     ]
    }
   ],
   "source": [
    "for i1, row1 in enumerate(G_t.T):\n",
    "    for i2, row2 in enumerate(G_t.T):\n",
    "        if i1 == i2:\n",
    "            continue\n",
    "        h = hamming(row1, row2)\n",
    "        print(i1,i2,h*14)"
   ]
  }
 ],
 "metadata": {
  "kernelspec": {
   "display_name": "Python 3",
   "language": "python",
   "name": "python3"
  },
  "language_info": {
   "codemirror_mode": {
    "name": "ipython",
    "version": 3
   },
   "file_extension": ".py",
   "mimetype": "text/x-python",
   "name": "python",
   "nbconvert_exporter": "python",
   "pygments_lexer": "ipython3",
   "version": "3.5.3"
  },
  "widgets": {
   "state": {},
   "version": "1.1.2"
  }
 },
 "nbformat": 4,
 "nbformat_minor": 2
}
