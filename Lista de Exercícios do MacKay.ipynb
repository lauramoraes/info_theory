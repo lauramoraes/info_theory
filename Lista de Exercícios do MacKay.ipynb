{
 "cells": [
  {
   "cell_type": "markdown",
   "metadata": {},
   "source": [
    "### Exercício 2.27 ###\n",
    "\n",
    "Prove that the entropy is indeed decomposable as described in equations (2.43–2.44)."
   ]
  },
  {
   "cell_type": "markdown",
   "metadata": {},
   "source": [
    "Temos que para um vetor *p*, H é calculado como:\n",
    "\n",
    "$p = [p_1, p_2, ..., p_M, p_{M+1}, p_{M+2}, ..., p_I] $\n",
    "\n",
    "$H(p) =  p_1 log \\frac{1}{p_1} + p_2 log \\frac{1}{p_2} + ... + p_I log \\frac{1}{p_I} $\n",
    "\n",
    "Separando em duas somas, temos:\n",
    "\n",
    "$H(p) = [p_1 log \\frac{1}{p_1} + p_2 log \\frac{1}{p_2} + ... + p_M log \\frac{1}{p_M}] + [p_{M+1} log \\frac{1}{p_{M+1}} + ... + p_I log \\frac{1}{p_I} ] $\n",
    "\n",
    "Se definirmos:\n",
    "\n",
    "$ A = p_1 + p_2 + ... + p_M $\n",
    "e $B = p_{M+1} + p_{M+2} + ... + p_I$\n",
    "\n",
    "Podemos somar e diminuir cada parcela da soma pelo log dos somatórios A e B respectivamente:\n",
    "\n",
    "$H(p) = p_1 log \\frac{A}{p_1} + p_1 log \\frac{1}{A} + p_2 log \\frac{A}{p_2} + p_2 log \\frac{1}{A} + ... + p_{M+1} log \\frac{B}{p_{M+1}} + p_{M+1} log \\frac{1}{B} + ... + p_I log \\frac{B}{p_I} + p_I log \\frac{1}{B} $\n",
    "\n",
    "Rearrumando o somatório, obtemos:\n",
    "\n",
    "$ H(p) = H_1(p) + H_2(p) + H_3(p) + H_4(p) $\n",
    "\n",
    "$ H_1(p) = p_1 log \\frac{A}{p_1} + p_2 log \\frac{A}{p_2} + ... + p_M log \\frac{A}{p_M} $\n",
    "\n",
    "$ H_2(p) = (p_1 + p_2 + ... + p_M) log \\frac{1}{A} $\n",
    "\n",
    "$ H_3(p) = p_{M+1} log \\frac{B}{p_{M+1}} + p_{M+2} log \\frac{B}{p_{M+2}} + ... + p_I log \\frac{B}{p_I} $\n",
    "\n",
    "$ H_4(p) = (p_1 + p_2 + ... + p_M) log \\frac{1}{B} $\n",
    "\n",
    "Analisando as parcelas H_2(p) e H_4(p) e substituindo A e B:\n",
    "\n",
    "$ H_2(p) = (p_1+p_2+...+p_M) log \\frac{1}{p_1+p_2+...+p_M} = H(p_1+p_2+...+p_M) $\n",
    "\n",
    "$ H_4(p) = (p_{M+1}+p_{M+2}+...+p_I) log \\frac{1}{p_{M+1}+p_{M+2}+...+p_I} = H(p_{M+1}+p_{M+2}+...+p_I) $\n",
    "\n",
    "Multiplicando e dividindo as parcela H_1(p) e H_3(p) por A e B respectivamente e substituindo os valores de A e B:\n",
    "\n",
    "$H_1(p) = (p_1+p_2+...+p_M)[\\frac{p_1}{p_1+p_2+...+p_M} log \\frac{p_1+p_2+...+p_M}{p_1} +  \\frac{p_2}{p_1+p_2+...+p_M} log \\frac{p_1+p_2+...+p_M}{p_2} + ... + \\frac{p_M}{p_1+p_2+...+p_M} log \\frac{p_1+p_2+...+p_M}{p_M}]$\n",
    "\n",
    "$H_1(p) = (p_1+p_2+...+p_M)[H(\\frac{p_1}{p_1+p_2+...+p_M}) + H(\\frac{p_2}{p_1+p_2+...+p_M}) + ... + H(\\frac{p_M}{p_1+p_2+...+p_M})]$\n",
    "\n",
    "$H_3(p) = (p_{M+1}+p_{M+2}+...+p_I)[\\frac{p_{M+1}}{p_{M+1}+p_{M+2}+...+p_I} log \\frac{p_{M+1}+p_{M+2}+...+p_I}{p_{M+1}} +  \\frac{p_{M+2}}{p_{M+1}+p_{M+2}+...+p_I} log \\frac{p_{M+1}+p_{M+2}+...+p_I}{p_{M+2}} + ... + \\frac{p_I}{p_{M+1}+p_{M+2}+...+p_I} log \\frac{p_{M+1}+p_{M+2}+...+p_I}{p_I}]$\n",
    "\n",
    "$H_3(p) = (p_{M+1}+p_{M+2}+...+p_I)[H(\\frac{p_{M+1}}{p_{M+1}+p_{M+2}+...+p_I}) + H(\\frac{p_{M+2}}{p_{M+1}+p_{M+2}+...+p_I}) + ... + H(\\frac{p_{M+1}+p_{M+2}+...+p_I}{p_I})]$\n",
    "\n",
    "Como as variáveis aleatórias são independentes:\n",
    "\n",
    "$H(X, Y ) = H(X) + H(Y ) iff P (x, y) = P (x)P (y)$\n",
    "\n",
    "Logo:\n",
    "\n",
    "$H(p) = H((p_1+p_2+...+p_M), (p_{M+1}+p_{M+2}+...+p_I)) + (p_1+p_2+...+p_M)[H(\\frac{p_1}{p_1+p_2+...+p_M}), H(\\frac{p_2}{p_1+p_2+...+p_M}) + ... , H(\\frac{p_M}{p_1+p_2+...+p_M})] + (p_{M+1}+p_{M+2}+...+p_I)[H(\\frac{p_{M+1}}{p_{M+1}+p_{M+2}+...+p_I}) , H(\\frac{p_{M+2}}{p_{M+1}+p_{M+2}+...+p_I}) , ... , H(\\frac{p_{M+1}+p_{M+2}+...+p_I}{p_I}) $"
   ]
  },
  {
   "cell_type": "markdown",
   "metadata": {},
   "source": [
    "### Exercício 3.15 ###\n",
    "\n",
    "A statistical statement appeared in The Guardian on\n",
    "Friday January 4, 2002:\n",
    "\n",
    "When spun on edge 250 times, a Belgian one-euro coin came\n",
    "up heads 140 times and tails 110. ‘It looks very suspicious\n",
    "to me’, said Barry Blight, a statistics lecturer at the London\n",
    "School of Economics. ‘If the coin were unbiased the chance of\n",
    "getting a result as extreme as that would be less than 7%’.\n",
    "\n",
    "But do these data give evidence that the coin is biased rather than fair?"
   ]
  },
  {
   "cell_type": "markdown",
   "metadata": {},
   "source": [
    "Quando ele pergunta se os dados dão evidência de que a moeda é enviesada ao invés de justa, ele quer saber se um modelo é muito mais provável em relação ao outro. Para isso, podemos a probabilidade do modelo dado os dados:\n",
    "\n",
    "$p(H|s,F) = \\frac{p(s|F,H)p(H)}{p(s|F)} $\n",
    "\n",
    "O denominador é a constante normalizadora e será o mesmo para os dois modelos. Então, para efeitos de comparação, podemos calcular a razão entre os dois modelos. Se a razão for maior do que 1, o modelo do numerador é mais provável, enquanto se ela for menor que 1, o denominador é mais provável.\n",
    "\n",
    "$\\frac{p(H_1|s,F)}{p(H_0|s,F)} = \\frac{p(s|F,H_1)p(H_1)}{p(s|F,H_0)p(H_0)} = \\frac{\\frac{F_a!F_b!}{(F_a+F_b+1)}}{p_a^{F_a}(1-p_a)^{F_b}}$\n",
    "\n",
    "Utilizando os dados nesse caso:\n",
    "\n",
    "$\\frac{p(H_1|s,F)}{p(H_0|s,F)} = \\frac{\\frac{140!110!}{(140+110+1)}}{0.5^{140}(1-0.5)^{110}} = 0.48$\n",
    "\n",
    "Portanto, podemos concluir que os dados *não* fornecem evidências de que a moeda está enviesada. Eles fornecem um pouco de evidência (2 para 1) que o modelo $H_0$ é o mais provável."
   ]
  },
  {
   "cell_type": "markdown",
   "metadata": {},
   "source": [
    "### Exercício 4.9 ###\n",
    "While some people, when they first encounter the weighing\n",
    "problem with 12 balls and the three-outcome balance (exercise 4.1\n",
    "(p.66)), think that weighing six balls against six balls is a good first\n",
    "weighing, others say ‘no, weighing six against six conveys no information at all’. Explain to the second group why they are both right and\n",
    "wrong. Compute the information gained about which is the odd ball,\n",
    "and the information gained about which is the odd ball and whether it is\n",
    "heavy or light."
   ]
  },
  {
   "cell_type": "markdown",
   "metadata": {},
   "source": [
    "Este jogo pode ser quebrado em duas partes: o jogo 1 é descobrir qual a bola diferente e o jogo 2, se esta bola é pesada ou leve. Pesar um grupo contra o outro fornece somente um parte da informação,que nos ajuda a encontrar qual a bola diferente, mas não se ela é pesada ou leve.\n",
    "\n",
    "Jogo 1:\n",
    "\n",
    "$H_1(\\frac{1}{12}, \\frac{1}{12}, ..., \\frac{1}{12}) = \\sum^{N=12} \\frac{1}{12} log 12 = log 12 $\n",
    "\n",
    "Jogo 2:\n",
    "\n",
    "$H_2(\\frac{1}{2}, \\frac{1}{2}) = \\sum^{N=2} \\frac{1}{2} log 2 = log 2$\n",
    "\n",
    "O jogo 2 pode acontecer de 12 maneiras (uma para cada bola) com probabilidade de $\\frac{1}{12}$ para cada jogo. Montando os dois jogos:\n",
    "\n",
    "$H = H_1 + 12 \\frac{1}{12} H_2 = log 12 + 12 \\frac{1}{12} log 2 = log 12 + log 2 = log 24$"
   ]
  },
  {
   "cell_type": "code",
   "execution_count": null,
   "metadata": {
    "collapsed": true
   },
   "outputs": [],
   "source": []
  }
 ],
 "metadata": {
  "kernelspec": {
   "display_name": "Python 3",
   "language": "python",
   "name": "python3"
  },
  "language_info": {
   "codemirror_mode": {
    "name": "ipython",
    "version": 3
   },
   "file_extension": ".py",
   "mimetype": "text/x-python",
   "name": "python",
   "nbconvert_exporter": "python",
   "pygments_lexer": "ipython3",
   "version": "3.5.3"
  }
 },
 "nbformat": 4,
 "nbformat_minor": 2
}
