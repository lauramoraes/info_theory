{
 "cells": [
  {
   "cell_type": "code",
   "execution_count": 1,
   "metadata": {
    "collapsed": true
   },
   "outputs": [],
   "source": [
    "import numpy as np"
   ]
  },
  {
   "cell_type": "markdown",
   "metadata": {},
   "source": [
    "#### Dados de exemplo (antes da generalização) ####"
   ]
  },
  {
   "cell_type": "code",
   "execution_count": 2,
   "metadata": {
    "collapsed": true
   },
   "outputs": [],
   "source": [
    "pm1 = np.array([1/2, 1/8])\n",
    "pm2 = np.array([1/4, 1/8])"
   ]
  },
  {
   "cell_type": "markdown",
   "metadata": {},
   "source": [
    "#### Fórmula não decomposta ####"
   ]
  },
  {
   "cell_type": "code",
   "execution_count": 20,
   "metadata": {
    "collapsed": true
   },
   "outputs": [],
   "source": [
    "def entropy(p):\n",
    "    h = 0\n",
    "    for item in p:\n",
    "        h += item * np.log2(item)\n",
    "    return h"
   ]
  },
  {
   "cell_type": "code",
   "execution_count": 22,
   "metadata": {
    "collapsed": false
   },
   "outputs": [
    {
     "name": "stdout",
     "output_type": "stream",
     "text": [
      "Entropia: -1.75\n"
     ]
    }
   ],
   "source": [
    "p = np.concatenate((pm1,pm2))\n",
    "H = entropy(p)\n",
    "print(\"Entropia: %.2f\" % H)"
   ]
  },
  {
   "cell_type": "markdown",
   "metadata": {},
   "source": [
    "#### Fórmula decomposta ####"
   ]
  },
  {
   "cell_type": "code",
   "execution_count": 37,
   "metadata": {
    "collapsed": true
   },
   "outputs": [],
   "source": [
    "def entropy2(pm1, pm2):\n",
    "    h = 0\n",
    "    h += entropy([pm1.sum(), pm2.sum()])\n",
    "    \n",
    "    partial_p = np.zeros(pm1.shape)\n",
    "    for idx in range(pm1.shape[0]):\n",
    "        partial_p[idx] = pm1[idx]/pm1.sum()\n",
    "    h += pm1.sum() * entropy(partial_p)\n",
    "    \n",
    "    partial_p = np.zeros(pm2.shape)\n",
    "    for idx in range(pm2.shape[0]):\n",
    "        partial_p[idx] = pm2[idx]/pm2.sum()\n",
    "    h += pm2.sum() * entropy(partial_p)\n",
    "    return h"
   ]
  },
  {
   "cell_type": "code",
   "execution_count": 38,
   "metadata": {
    "collapsed": false
   },
   "outputs": [
    {
     "name": "stdout",
     "output_type": "stream",
     "text": [
      "Entropia: -1.75\n"
     ]
    }
   ],
   "source": [
    "H = entropy2(pm1, pm2)\n",
    "print(\"Entropia: %.2f\" % H)"
   ]
  }
 ],
 "metadata": {
  "kernelspec": {
   "display_name": "Python 3",
   "language": "python",
   "name": "python3"
  },
  "language_info": {
   "codemirror_mode": {
    "name": "ipython",
    "version": 3
   },
   "file_extension": ".py",
   "mimetype": "text/x-python",
   "name": "python",
   "nbconvert_exporter": "python",
   "pygments_lexer": "ipython3",
   "version": "3.5.3"
  }
 },
 "nbformat": 4,
 "nbformat_minor": 2
}
