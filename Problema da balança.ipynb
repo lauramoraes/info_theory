{
 "cells": [
  {
   "cell_type": "markdown",
   "metadata": {},
   "source": [
    "#### Problema da balança ####\n",
    "Você tem 12 bolas e 1 é diferente, podendo ser mais leve ou mais pesada. Você possui somente uma balança de 2 pratos. Descubra a bola com o menor número de pesagens"
   ]
  },
  {
   "cell_type": "code",
   "execution_count": 1,
   "metadata": {
    "collapsed": true
   },
   "outputs": [],
   "source": [
    "import numpy as np"
   ]
  },
  {
   "cell_type": "code",
   "execution_count": 107,
   "metadata": {
    "collapsed": false
   },
   "outputs": [],
   "source": [
    "# Iniciando o problema com todas as bolas com peso 1\n",
    "pesos = np.ones((12,))\n",
    "# Alterando o peso da bola 7\n",
    "pesos[11] = 0.1"
   ]
  },
  {
   "cell_type": "code",
   "execution_count": 108,
   "metadata": {
    "collapsed": false
   },
   "outputs": [
    {
     "name": "stdout",
     "output_type": "stream",
     "text": [
      "Pesos: [ 1.   1.   1.   1.   1.   1.   1.   1.   1.   1.   1.   0.1]\n"
     ]
    }
   ],
   "source": [
    "print(\"Pesos: %s\" % pesos)"
   ]
  },
  {
   "cell_type": "code",
   "execution_count": 109,
   "metadata": {
    "collapsed": false
   },
   "outputs": [
    {
     "name": "stdout",
     "output_type": "stream",
     "text": [
      "A bola diferente pesa 0.10 na posição 11 \n"
     ]
    }
   ],
   "source": [
    "grupo = []\n",
    "idx = list(range(pesos.shape[0]))\n",
    "\n",
    "# Divide em quatro grupos\n",
    "for i in range(0,pesos.shape[0],3):\n",
    "    grupo.append(pesos[i:i+3])\n",
    "\n",
    "# Pesa o grupo 0 x grupo 1 (1 pesagem)\n",
    "sum1 = grupo[0].sum()\n",
    "sum2 = grupo[1].sum()\n",
    "\n",
    "# Descarta estes grupos se a soma for igual. Se for diferente descarta os outros grupo.\n",
    "# Salva um grupo para comparação.\n",
    "if sum1 == sum2:\n",
    "    padrao = grupo[0]\n",
    "    del grupo[1]\n",
    "    del grupo[0]\n",
    "    for i in range(0,6):\n",
    "        idx.remove(i)\n",
    "else:\n",
    "    padrao = grupo[2]\n",
    "    del grupo[3]\n",
    "    del grupo[2]\n",
    "    for i in range(6,12):\n",
    "        idx.remove(i)\n",
    "    \n",
    "# Peso um dos grupos restantes com o grupo padrão (2 pesagens até aqui)\n",
    "sum1 = grupo[0].sum()\n",
    "sum2 = padrao.sum()\n",
    "\n",
    "# Descarta este grupo se a soma for igual. Se for diferente descarta o outro grupo.\n",
    "# Salva uma bola para comparação.\n",
    "padrao = padrao[0]\n",
    "if sum1 == sum2:\n",
    "    del grupo[0]\n",
    "    for i in range(2,-1,-1):\n",
    "        del idx[i]\n",
    "else:\n",
    "    del grupo[1]\n",
    "    for i in range(5,2,-1):\n",
    "        del idx[i]\n",
    "    \n",
    "# Só sobraram 3 bolas nesse momento. Escolho duas e peso uma contra a outra (3 pesagens).\n",
    "# Se as duas escolhidas possuírem o mesmo peso, a terceira é a diferente.\n",
    "if grupo[0][0] == grupo[0][1]:\n",
    "    bola = grupo[0][2]\n",
    "    idx = idx[2]\n",
    "# Senão, escolhemos uma das duas e comparamos com bola padrão (4 pesagens).\n",
    "elif grupo[0][0] == padrao:\n",
    "    bola = grupo[0][1]\n",
    "    idx = idx[1]\n",
    "else:\n",
    "    bola = grupo[0][0]\n",
    "    idx = idx[0]\n",
    "    \n",
    "print(\"A bola diferente pesa %.2f na posição %d \" % (bola,idx))"
   ]
  }
 ],
 "metadata": {
  "kernelspec": {
   "display_name": "Python 3",
   "language": "python",
   "name": "python3"
  },
  "language_info": {
   "codemirror_mode": {
    "name": "ipython",
    "version": 3
   },
   "file_extension": ".py",
   "mimetype": "text/x-python",
   "name": "python",
   "nbconvert_exporter": "python",
   "pygments_lexer": "ipython3",
   "version": "3.5.2"
  },
  "widgets": {
   "state": {},
   "version": "1.1.2"
  }
 },
 "nbformat": 4,
 "nbformat_minor": 0
}
